{
 "cells": [
  {
   "cell_type": "markdown",
   "metadata": {},
   "source": [
    "# Problema de Negócio"
   ]
  },
  {
   "cell_type": "markdown",
   "metadata": {},
   "source": [
    "A Electronic House é um comercio online ( e-commerce ) de produtos de\n",
    "informática para casas e escritórios. Os clientes podem comprar mouses,\n",
    "monitores, teclados, computadores, laptops, cabos HDMI, fones de ouvido,\n",
    "cameras webcam, entre outros, através de um site online e recebem os produtos\n",
    "no confA Electronic House é um comercio online ( e-commerce ) de produtos de\n",
    "informática para casas e escritórios. Os clientes podem comprar mouses,\n",
    "monitores, teclados, computadores, laptops, cabos HDMI, fones de ouvido,\n",
    "cameras webcam, entre outros, através de um site online e recebem os produtos\n",
    "no conforto de suas casas.orto de suas casas.\n",
    "\n",
    "O time de UX designers vem trabalhando em uma nova página de vendas, com\n",
    "o objetivo de aumentar a taxa de conversão de um produto da loja, um teclado\n",
    "bluetooth. O product manager (gerente de produto) disse que a taxa de\n",
    "conversão da página atual é de 13% em média, no último ano.\n",
    "\n",
    "\n",
    "O objetivo do product manager é aumentar a taxa de conversão em 2%, ou seja,\n",
    "a nova página de vendas, desenvolvida pelo time de UX, seria um sucesso se a\n",
    "sua taxa de conversão fosse de 15%.\n",
    "\n",
    "O teclado bluetooth possui um preço de venda de R$ 4.500,00 à vista ou\n",
    "parcelado em 12% sem juros no cartão de crédito.\n",
    "\n",
    "Antes de trocar a página de vendas antiga pela nova, o product manager\n",
    "gostaria de testar a efetividade da nova página em um grupo menor de clientes,\n",
    "a fim de correr menos riscos de queda da conversão, caso a página nova mostre\n",
    "uma conversão pior do que a página atual.\n",
    "\n",
    "\n"
   ]
  },
  {
   "cell_type": "markdown",
   "metadata": {},
   "source": [
    "# Sugestão de Solução"
   ]
  },
  {
   "cell_type": "markdown",
   "metadata": {},
   "source": [
    "1. Aplicar o método IOT\n",
    "\n",
    "    a. Output:\n",
    "\n",
    "        i. Uma frase dizendo se a página A é melhor que a B.\n",
    "\n",
    "        ii. Potencial de vendas da página\n",
    "\n",
    "        iii. Potencial de faturamento do produto.\n",
    "\n",
    "    b. Input: Problema de negócio + dados do Kaggle\n",
    "\n",
    "    c. Tasks:\n",
    "\n",
    "        i. Planejamento do experimento.\n",
    "        ii. Obter os dados.\n",
    "        iii. Conferir a validação de dados.\n",
    "        iv. Estudar a estatística descritiva dos dados.\n",
    "        v. Criar as hipóteses.\n",
    "        vi. Explorar os dados ( Entender as distribuições )\n",
    "        vii. Estipular uma meta do teste ( 2% )\n",
    "        viii. Estipular o nível de significância do teste.\n",
    "        ix. Definir qual será o teste estatístico\n",
    "        x. Aplicar o teste estatístico ( Teste de permutação )\n",
    "        xi. Comparar a distribuição das 2 páginas e ver se há uma diferença\n",
    "        estatisticamente relevante.\n",
    "        xii. Entregar o resultado ( vide o Output )"
   ]
  },
  {
   "cell_type": "code",
   "execution_count": null,
   "metadata": {},
   "outputs": [],
   "source": []
  },
  {
   "cell_type": "code",
   "execution_count": null,
   "metadata": {},
   "outputs": [],
   "source": []
  },
  {
   "cell_type": "code",
   "execution_count": null,
   "metadata": {},
   "outputs": [],
   "source": []
  }
 ],
 "metadata": {
  "kernelspec": {
   "display_name": "Python 3",
   "language": "python",
   "name": "python3"
  },
  "language_info": {
   "codemirror_mode": {
    "name": "ipython",
    "version": 3
   },
   "file_extension": ".py",
   "mimetype": "text/x-python",
   "name": "python",
   "nbconvert_exporter": "python",
   "pygments_lexer": "ipython3",
   "version": "3.11.4"
  },
  "orig_nbformat": 4
 },
 "nbformat": 4,
 "nbformat_minor": 2
}
